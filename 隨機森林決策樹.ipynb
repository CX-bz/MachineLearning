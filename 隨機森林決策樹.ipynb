{
  "nbformat": 4,
  "nbformat_minor": 0,
  "metadata": {
    "colab": {
      "provenance": []
    },
    "kernelspec": {
      "name": "python3",
      "display_name": "Python 3"
    },
    "language_info": {
      "name": "python"
    }
  },
  "cells": [
    {
      "cell_type": "code",
      "execution_count": null,
      "metadata": {
        "colab": {
          "base_uri": "https://localhost:8080/"
        },
        "id": "A-8xSKCnfI9E",
        "outputId": "888d228e-cc22-48e4-8555-3bd3fd9dcdeb"
      },
      "outputs": [
        {
          "output_type": "stream",
          "name": "stdout",
          "text": [
            "訓練資料正確率: 1.0\n",
            "測試資料正確率: 0.9777777777777777\n",
            "標準答案: [0 2 0 1 1 2 1 0 2 0 0 0 0 0 0 1 1 1 2 0 0 2 0 1 2 0 1 0 0 1 0 1 0 2 1 2 2\n",
            " 2 2 1 2 2 2 0 0]\n",
            "預測答案: [0 2 0 1 1 2 1 0 2 0 0 0 0 0 0 1 1 1 1 0 0 2 0 1 2 0 1 0 0 1 0 1 0 2 1 2 2\n",
            " 2 2 1 2 2 2 0 0]\n"
          ]
        }
      ],
      "source": [
        "from sklearn.ensemble import RandomForestClassifier\n",
        "from sklearn.datasets import load_iris\n",
        "from sklearn.model_selection import train_test_split\n",
        "\n",
        "# 讀入鳶尾花資料\n",
        "iris = load_iris()\n",
        "iris_data = iris.data\n",
        "iris_label = iris.target\n",
        "\n"
      ]
    },
    {
      "cell_type": "code",
      "source": [
        "# 切分訓練與測試資料\n",
        "train_data, test_data, train_label, test_label = train_test_split(iris_data, iris_label, test_size = 0.3)\n",
        "clf = RandomForestClassifier(n_estimators=30, max_depth=4)\n",
        "iris_clf = clf.fit(train_data, train_label)\n",
        "print(\"訓練資料正確率:\",clf.score(train_data,train_label)) # 訓練資料正確率\n",
        "print(\"測試資料正確率:\",clf.score(test_data, test_label)) # 測試資料正確率"
      ],
      "metadata": {
        "colab": {
          "base_uri": "https://localhost:8080/"
        },
        "id": "8HE3zYpofMAY",
        "outputId": "43b86fb6-db48-4505-f823-84fbfe3c8e89"
      },
      "execution_count": null,
      "outputs": [
        {
          "output_type": "stream",
          "name": "stdout",
          "text": [
            "訓練資料正確率: 0.9904761904761905\n",
            "測試資料正確率: 0.9777777777777777\n"
          ]
        }
      ]
    }
  ]
}